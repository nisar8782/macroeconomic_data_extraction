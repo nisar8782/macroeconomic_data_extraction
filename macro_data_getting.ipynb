{
 "cells": [
  {
   "cell_type": "markdown",
   "id": "18b1fdba",
   "metadata": {},
   "source": [
    "# Get data from Eurostat"
   ]
  },
  {
   "cell_type": "markdown",
   "id": "c21a1808",
   "metadata": {},
   "source": [
    "EXPLANATION: the necessity to create model is because Eurostat offer API just to read default tables. For example if you need to customize some tables changing whole number as percentage you can not directly read the code customized for your changes. So, the following code will let you read any codes."
   ]
  },
  {
   "cell_type": "markdown",
   "id": "75ada12f",
   "metadata": {},
   "source": [
    "DISCLAIMER: codes is not visible. Just calling the udf and see how it work"
   ]
  },
  {
   "cell_type": "code",
   "execution_count": null,
   "id": "f9506d54",
   "metadata": {},
   "outputs": [],
   "source": []
  },
  {
   "cell_type": "code",
   "execution_count": null,
   "id": "94b578cd",
   "metadata": {},
   "outputs": [],
   "source": []
  },
  {
   "cell_type": "markdown",
   "id": "23b81d0d",
   "metadata": {},
   "source": [
    "## SetUp"
   ]
  },
  {
   "cell_type": "code",
   "execution_count": 1,
   "id": "751a9a79",
   "metadata": {},
   "outputs": [],
   "source": [
    "import numpy as np\n",
    "import pandas as pd\n",
    "import requests\n",
    "import seaborn as sns\n",
    "import math\n",
    "import matplotlib.pyplot as plt"
   ]
  },
  {
   "cell_type": "code",
   "execution_count": 2,
   "id": "52ca54fe",
   "metadata": {},
   "outputs": [
    {
     "data": {
      "text/plain": [
       "75"
      ]
     },
     "execution_count": 2,
     "metadata": {},
     "output_type": "execute_result"
    }
   ],
   "source": [
    "# IMPORT FILE: country_codes\n",
    "import country_codes\n",
    "from country_codes import eurostat_dictionary # it contains dictionary with country abbreviation and name of country\n",
    "len(eurostat_dictionary)"
   ]
  },
  {
   "cell_type": "code",
   "execution_count": 3,
   "id": "984d3cbc",
   "metadata": {},
   "outputs": [],
   "source": [
    "import sys\n",
    "sys.path.append('---PATH---')\n",
    "import macro_udf"
   ]
  },
  {
   "cell_type": "code",
   "execution_count": 4,
   "id": "f9c76927",
   "metadata": {},
   "outputs": [],
   "source": [
    "# VISUALIZE TABLE: ',None'\n",
    "# VISUALIZE JUST SUBSET: remove ',None'\n",
    "pd.set_option('display.max_rows', None)\n",
    "pd.set_option('display.max_columns', None)"
   ]
  },
  {
   "cell_type": "code",
   "execution_count": null,
   "id": "978e10fd",
   "metadata": {},
   "outputs": [],
   "source": []
  },
  {
   "cell_type": "code",
   "execution_count": null,
   "id": "5c5c6f84",
   "metadata": {},
   "outputs": [],
   "source": []
  },
  {
   "cell_type": "markdown",
   "id": "93fc0d91",
   "metadata": {},
   "source": [
    "# General Overview"
   ]
  },
  {
   "cell_type": "code",
   "execution_count": null,
   "id": "8d41d963",
   "metadata": {},
   "outputs": [],
   "source": []
  },
  {
   "cell_type": "markdown",
   "id": "7e89e318",
   "metadata": {},
   "source": [
    "**INFO COUNTRIES** [**Source EU and European Economic Area (EEA)**](https://ec.europa.eu/eurostat/statistics-explained/index.php?title=Glossary:Country_codes)"
   ]
  },
  {
   "cell_type": "code",
   "execution_count": 5,
   "id": "1e2fe591",
   "metadata": {},
   "outputs": [],
   "source": [
    "# table with countries and eu reference to check\n",
    "info_eu_efta_countries = macro_udf.generate_info_eu_efta_countries()"
   ]
  },
  {
   "cell_type": "code",
   "execution_count": 6,
   "id": "a379d338",
   "metadata": {},
   "outputs": [
    {
     "data": {
      "text/html": [
       "<div>\n",
       "<style scoped>\n",
       "    .dataframe tbody tr th:only-of-type {\n",
       "        vertical-align: middle;\n",
       "    }\n",
       "\n",
       "    .dataframe tbody tr th {\n",
       "        vertical-align: top;\n",
       "    }\n",
       "\n",
       "    .dataframe thead th {\n",
       "        text-align: right;\n",
       "    }\n",
       "</style>\n",
       "<table border=\"1\" class=\"dataframe\">\n",
       "  <thead>\n",
       "    <tr style=\"text-align: right;\">\n",
       "      <th></th>\n",
       "      <th>country</th>\n",
       "      <th>list</th>\n",
       "    </tr>\n",
       "  </thead>\n",
       "  <tbody>\n",
       "    <tr>\n",
       "      <th>0</th>\n",
       "      <td>Austria</td>\n",
       "      <td>eu_countries</td>\n",
       "    </tr>\n",
       "    <tr>\n",
       "      <th>1</th>\n",
       "      <td>Belgium</td>\n",
       "      <td>eu_countries</td>\n",
       "    </tr>\n",
       "    <tr>\n",
       "      <th>2</th>\n",
       "      <td>Bulgaria</td>\n",
       "      <td>eu_countries</td>\n",
       "    </tr>\n",
       "    <tr>\n",
       "      <th>3</th>\n",
       "      <td>Croatia</td>\n",
       "      <td>eu_countries</td>\n",
       "    </tr>\n",
       "    <tr>\n",
       "      <th>4</th>\n",
       "      <td>Cyprus</td>\n",
       "      <td>eu_countries</td>\n",
       "    </tr>\n",
       "  </tbody>\n",
       "</table>\n",
       "</div>"
      ],
      "text/plain": [
       "    country          list\n",
       "0   Austria  eu_countries\n",
       "1   Belgium  eu_countries\n",
       "2  Bulgaria  eu_countries\n",
       "3   Croatia  eu_countries\n",
       "4    Cyprus  eu_countries"
      ]
     },
     "execution_count": 6,
     "metadata": {},
     "output_type": "execute_result"
    }
   ],
   "source": [
    "info_eu_efta_countries.head()"
   ]
  },
  {
   "cell_type": "code",
   "execution_count": null,
   "id": "13a847d9",
   "metadata": {},
   "outputs": [],
   "source": []
  },
  {
   "cell_type": "markdown",
   "id": "1f94da3c",
   "metadata": {},
   "source": [
    "# Pipeline to get data and modelling"
   ]
  },
  {
   "cell_type": "markdown",
   "id": "b1956faa",
   "metadata": {},
   "source": [
    "**STEP 1:**\n",
    "EUROSTAT: Before getting data it's need to:\n",
    "- select code table in eurostat you interested in (make sure table have data you need)\n",
    "- get table code"
   ]
  },
  {
   "cell_type": "code",
   "execution_count": null,
   "id": "933c1582",
   "metadata": {},
   "outputs": [],
   "source": []
  },
  {
   "cell_type": "markdown",
   "id": "a4f1fcec",
   "metadata": {},
   "source": [
    "**STEP 2:** Define countries you need to incude"
   ]
  },
  {
   "cell_type": "code",
   "execution_count": 7,
   "id": "925e9c42",
   "metadata": {},
   "outputs": [],
   "source": [
    "# Country will be selected from 'eurostat_dictionary' imported\n",
    "EU_countries = ['Austria', 'Belgium','Bulgaria', 'Croatia',\n",
    "                'Cyprus', 'Czechia', 'Denmark', 'Estonia',\n",
    "                'Finland', 'France', 'Germany', 'Greece',\n",
    "                'Hungary', 'Ireland', 'Italy', 'Latvia', 'Lithuania',\n",
    "                'Luxembourg', 'Malta', 'Netherlands', 'Poland', 'Portugal',\n",
    "                'Romania', 'Slovakia', 'Slovenia', 'Spain', 'Sweden',\n",
    "                # European Economic Area (EEA) / Liechtenstein doesn't have data\n",
    "                'Iceland', 'Norway',\n",
    "                # not an EU or EEA\n",
    "                'Switzerland',\n",
    "                # No EU\n",
    "#                 'United Kingdom'\n",
    "               ]"
   ]
  },
  {
   "cell_type": "code",
   "execution_count": 8,
   "id": "c5e979b0",
   "metadata": {},
   "outputs": [
    {
     "data": {
      "text/plain": [
       "30"
      ]
     },
     "execution_count": 8,
     "metadata": {},
     "output_type": "execute_result"
    }
   ],
   "source": [
    "len(EU_countries)"
   ]
  },
  {
   "cell_type": "code",
   "execution_count": null,
   "id": "6d1ce2f6",
   "metadata": {},
   "outputs": [],
   "source": []
  },
  {
   "cell_type": "markdown",
   "id": "e49cc793",
   "metadata": {},
   "source": [
    "**STEP 3:** Check countries selected eu or not eu"
   ]
  },
  {
   "cell_type": "code",
   "execution_count": 9,
   "id": "40f31749",
   "metadata": {},
   "outputs": [
    {
     "name": "stdout",
     "output_type": "stream",
     "text": [
      "You also selected extra eu countries (es. EFTA)\n",
      "NOTE: these data could have missing or be not accurate. So, check them.\n"
     ]
    },
    {
     "data": {
      "text/html": [
       "<div>\n",
       "<style scoped>\n",
       "    .dataframe tbody tr th:only-of-type {\n",
       "        vertical-align: middle;\n",
       "    }\n",
       "\n",
       "    .dataframe tbody tr th {\n",
       "        vertical-align: top;\n",
       "    }\n",
       "\n",
       "    .dataframe thead th {\n",
       "        text-align: right;\n",
       "    }\n",
       "</style>\n",
       "<table border=\"1\" class=\"dataframe\">\n",
       "  <thead>\n",
       "    <tr style=\"text-align: right;\">\n",
       "      <th></th>\n",
       "      <th>no EU coutries</th>\n",
       "    </tr>\n",
       "  </thead>\n",
       "  <tbody>\n",
       "    <tr>\n",
       "      <th>0</th>\n",
       "      <td>Iceland</td>\n",
       "    </tr>\n",
       "    <tr>\n",
       "      <th>1</th>\n",
       "      <td>Norway</td>\n",
       "    </tr>\n",
       "    <tr>\n",
       "      <th>2</th>\n",
       "      <td>Switzerland</td>\n",
       "    </tr>\n",
       "  </tbody>\n",
       "</table>\n",
       "</div>"
      ],
      "text/plain": [
       "  no EU coutries\n",
       "0        Iceland\n",
       "1         Norway\n",
       "2    Switzerland"
      ]
     },
     "execution_count": 9,
     "metadata": {},
     "output_type": "execute_result"
    }
   ],
   "source": [
    "macro_udf.check_countries(EU_countries, info_eu_efta_countries)"
   ]
  },
  {
   "cell_type": "code",
   "execution_count": null,
   "id": "63c8aab1",
   "metadata": {},
   "outputs": [],
   "source": []
  },
  {
   "cell_type": "markdown",
   "id": "1e805523",
   "metadata": {},
   "source": [
    "**STEP 4:** years setting"
   ]
  },
  {
   "cell_type": "markdown",
   "id": "2aa8daed",
   "metadata": {},
   "source": [
    "* make sure years you specified are available in the table you choose\n",
    "* the code will choose just years in common for all table selected"
   ]
  },
  {
   "cell_type": "code",
   "execution_count": 10,
   "id": "05aea35c",
   "metadata": {},
   "outputs": [],
   "source": [
    "years = ['2013', '2014', '2015', '2016', '2017', '2018', '2019', '2020', '2021', '2022']"
   ]
  },
  {
   "cell_type": "code",
   "execution_count": null,
   "id": "7d754b0e",
   "metadata": {},
   "outputs": [],
   "source": []
  },
  {
   "cell_type": "markdown",
   "id": "4359fcdc",
   "metadata": {},
   "source": [
    "**STEP 5:** pass custom code selected"
   ]
  },
  {
   "cell_type": "code",
   "execution_count": 11,
   "id": "f14f1317",
   "metadata": {},
   "outputs": [],
   "source": [
    "custom_codes  = ['TPS00001', 'TPS00003','TEC00115','SDG_17_40','TEC00023','TET00002',\n",
    "                 'TEC00112','DEMO_PJANIND__custom_6776614','EDAT_LFSE_03__custom_6767752',\n",
    "                 'LC_LCI_R2_A__custom_6999771','PRC_HICP_AIND__custom_7000055']"
   ]
  },
  {
   "cell_type": "code",
   "execution_count": 12,
   "id": "27717cad",
   "metadata": {},
   "outputs": [
    {
     "data": {
      "text/plain": [
       "11"
      ]
     },
     "execution_count": 12,
     "metadata": {},
     "output_type": "execute_result"
    }
   ],
   "source": [
    "len(custom_codes)"
   ]
  },
  {
   "cell_type": "code",
   "execution_count": 13,
   "id": "ce3dd62a",
   "metadata": {},
   "outputs": [],
   "source": [
    "# Map code with name reference need in dataframe\n",
    "column_custom_mapping = {\n",
    "    \n",
    "    # Demographic\n",
    "    'TPS00001': 'ToTPop.', # Demographic balance population total\n",
    "    'TPS00003':'PopDens', # Persons per square kilometre\n",
    "    \n",
    "    # Macroeconomic\n",
    "    'TEC00115':'RealGDPGRChg(%)', # Real GDP growth rate change by previous year\n",
    "    'SDG_17_40':'GrDebtToGDP(%)', # Gross Debt to GDP\n",
    "    'TEC00023':'GovExpToGDP(%)', # Government expenditure to GDP\n",
    "    'TET00002':'IntTdGoods', # Net Trade goods (no EFTA)\n",
    "\n",
    "    # Population\n",
    "    'TEC00112':'EmpDomCon', # How many people country employ\n",
    "    'DEMO_PJANIND__custom_6776614':'DepOnWorkP(%)', # Dependency on Working Population\n",
    "    'EDAT_LFSE_03__custom_6767752':'EduLev3(5-8)(%)', # Tertiary education (levels 5-8)\n",
    "    'LC_LCI_R2_A__custom_6999771':'InduCostChg(%)', # Labor industry cost change by previous year\n",
    "    'PRC_HICP_AIND__custom_7000055':'HICPChg(%)' # Harmonizes Index Consumer Price (check basket selected)\n",
    "}\n",
    "\n",
    "# HICP BASKET: made by main point select indices that don't have high seasonal, high frequency changing. And indices\n",
    "# that are referred like premium (eg. travel, entertainment)"
   ]
  },
  {
   "cell_type": "code",
   "execution_count": null,
   "id": "d0675f64",
   "metadata": {},
   "outputs": [],
   "source": []
  },
  {
   "cell_type": "markdown",
   "id": "c745eae3",
   "metadata": {},
   "source": [
    "**STEP 6:** test single code to check if data gotten are what you need"
   ]
  },
  {
   "cell_type": "code",
   "execution_count": 14,
   "id": "f1cdaf67",
   "metadata": {},
   "outputs": [],
   "source": [
    "test_code = ['TEC00115']\n",
    "name_index = 'RealGDPGRChg(%)'\n",
    "third_col_name = 'TEST' # if name index is not passed\n",
    "# Run cell below"
   ]
  },
  {
   "cell_type": "code",
   "execution_count": 15,
   "id": "e42cc550",
   "metadata": {},
   "outputs": [],
   "source": [
    "df_test_code = macro_udf.test_single_df(test_code, years, eurostat_dictionary, EU_countries, name_index, third_col_name)"
   ]
  },
  {
   "cell_type": "code",
   "execution_count": 16,
   "id": "cafdd0b6",
   "metadata": {},
   "outputs": [],
   "source": [
    "# ORDER BY COLUMNS: 'country' and 'year'\n",
    "df_test_code = df_test_code.sort_values(by=[\"country\", \"year\"], ascending=[True, True])"
   ]
  },
  {
   "cell_type": "code",
   "execution_count": 17,
   "id": "58676093",
   "metadata": {},
   "outputs": [
    {
     "data": {
      "text/html": [
       "<div>\n",
       "<style scoped>\n",
       "    .dataframe tbody tr th:only-of-type {\n",
       "        vertical-align: middle;\n",
       "    }\n",
       "\n",
       "    .dataframe tbody tr th {\n",
       "        vertical-align: top;\n",
       "    }\n",
       "\n",
       "    .dataframe thead th {\n",
       "        text-align: right;\n",
       "    }\n",
       "</style>\n",
       "<table border=\"1\" class=\"dataframe\">\n",
       "  <thead>\n",
       "    <tr style=\"text-align: right;\">\n",
       "      <th></th>\n",
       "      <th>country</th>\n",
       "      <th>year</th>\n",
       "      <th>RealGDPGRChg(%)</th>\n",
       "    </tr>\n",
       "  </thead>\n",
       "  <tbody>\n",
       "    <tr>\n",
       "      <th>19</th>\n",
       "      <td>Austria</td>\n",
       "      <td>2013</td>\n",
       "      <td>0.0</td>\n",
       "    </tr>\n",
       "    <tr>\n",
       "      <th>49</th>\n",
       "      <td>Austria</td>\n",
       "      <td>2014</td>\n",
       "      <td>0.7</td>\n",
       "    </tr>\n",
       "    <tr>\n",
       "      <th>79</th>\n",
       "      <td>Austria</td>\n",
       "      <td>2015</td>\n",
       "      <td>1.0</td>\n",
       "    </tr>\n",
       "    <tr>\n",
       "      <th>109</th>\n",
       "      <td>Austria</td>\n",
       "      <td>2016</td>\n",
       "      <td>2.0</td>\n",
       "    </tr>\n",
       "    <tr>\n",
       "      <th>139</th>\n",
       "      <td>Austria</td>\n",
       "      <td>2017</td>\n",
       "      <td>2.3</td>\n",
       "    </tr>\n",
       "  </tbody>\n",
       "</table>\n",
       "</div>"
      ],
      "text/plain": [
       "     country  year  RealGDPGRChg(%)\n",
       "19   Austria  2013              0.0\n",
       "49   Austria  2014              0.7\n",
       "79   Austria  2015              1.0\n",
       "109  Austria  2016              2.0\n",
       "139  Austria  2017              2.3"
      ]
     },
     "execution_count": 17,
     "metadata": {},
     "output_type": "execute_result"
    }
   ],
   "source": [
    "df_test_code.head()"
   ]
  },
  {
   "cell_type": "code",
   "execution_count": null,
   "id": "38b6c1f1",
   "metadata": {},
   "outputs": [],
   "source": []
  },
  {
   "cell_type": "markdown",
   "id": "8190795c",
   "metadata": {},
   "source": [
    "**STEP 7:** scrape all list of codes selected"
   ]
  },
  {
   "cell_type": "code",
   "execution_count": 18,
   "id": "ba4d9e74",
   "metadata": {},
   "outputs": [],
   "source": [
    "result_df_custom = macro_udf.update_dataframes(custom_codes, eurostat_dictionary, years, EU_countries, column_custom_mapping)"
   ]
  },
  {
   "cell_type": "code",
   "execution_count": 19,
   "id": "1cec88d4",
   "metadata": {},
   "outputs": [],
   "source": [
    "# ORDER BY COLUMNS: 'country' and 'year'\n",
    "result_df_custom = result_df_custom.sort_values(by=[\"country\", \"year\"], ascending=[True, True])"
   ]
  },
  {
   "cell_type": "code",
   "execution_count": 20,
   "id": "3ae4c2a6",
   "metadata": {},
   "outputs": [
    {
     "data": {
      "text/html": [
       "<div>\n",
       "<style scoped>\n",
       "    .dataframe tbody tr th:only-of-type {\n",
       "        vertical-align: middle;\n",
       "    }\n",
       "\n",
       "    .dataframe tbody tr th {\n",
       "        vertical-align: top;\n",
       "    }\n",
       "\n",
       "    .dataframe thead th {\n",
       "        text-align: right;\n",
       "    }\n",
       "</style>\n",
       "<table border=\"1\" class=\"dataframe\">\n",
       "  <thead>\n",
       "    <tr style=\"text-align: right;\">\n",
       "      <th></th>\n",
       "      <th>country</th>\n",
       "      <th>year</th>\n",
       "      <th>ToTPop.</th>\n",
       "      <th>PopDens</th>\n",
       "      <th>RealGDPGRChg(%)</th>\n",
       "      <th>GrDebtToGDP(%)</th>\n",
       "      <th>GovExpToGDP(%)</th>\n",
       "      <th>IntTdGoods</th>\n",
       "      <th>EmpDomCon</th>\n",
       "      <th>DepOnWorkP(%)</th>\n",
       "      <th>EduLev3(5-8)(%)</th>\n",
       "      <th>InduCostChg(%)</th>\n",
       "      <th>HICPChg(%)</th>\n",
       "    </tr>\n",
       "  </thead>\n",
       "  <tbody>\n",
       "    <tr>\n",
       "      <th>19</th>\n",
       "      <td>Austria</td>\n",
       "      <td>2013</td>\n",
       "      <td>8451860.0</td>\n",
       "      <td>102.9</td>\n",
       "      <td>0.0</td>\n",
       "      <td>81.3</td>\n",
       "      <td>51.6</td>\n",
       "      <td>-6115.3</td>\n",
       "      <td>4219.77</td>\n",
       "      <td>48.1</td>\n",
       "      <td>22.2</td>\n",
       "      <td>2.9</td>\n",
       "      <td>3.4</td>\n",
       "    </tr>\n",
       "    <tr>\n",
       "      <th>49</th>\n",
       "      <td>Austria</td>\n",
       "      <td>2014</td>\n",
       "      <td>8507786.0</td>\n",
       "      <td>103.7</td>\n",
       "      <td>0.7</td>\n",
       "      <td>84.0</td>\n",
       "      <td>52.4</td>\n",
       "      <td>-2828.7</td>\n",
       "      <td>4259.90</td>\n",
       "      <td>48.4</td>\n",
       "      <td>20.3</td>\n",
       "      <td>2.9</td>\n",
       "      <td>1.8</td>\n",
       "    </tr>\n",
       "    <tr>\n",
       "      <th>79</th>\n",
       "      <td>Austria</td>\n",
       "      <td>2015</td>\n",
       "      <td>8584926.0</td>\n",
       "      <td>104.9</td>\n",
       "      <td>1.0</td>\n",
       "      <td>84.9</td>\n",
       "      <td>51.1</td>\n",
       "      <td>-2942.4</td>\n",
       "      <td>4285.54</td>\n",
       "      <td>48.7</td>\n",
       "      <td>19.6</td>\n",
       "      <td>2.9</td>\n",
       "      <td>0.8</td>\n",
       "    </tr>\n",
       "    <tr>\n",
       "      <th>109</th>\n",
       "      <td>Austria</td>\n",
       "      <td>2016</td>\n",
       "      <td>8700471.0</td>\n",
       "      <td>106.0</td>\n",
       "      <td>2.0</td>\n",
       "      <td>82.8</td>\n",
       "      <td>50.1</td>\n",
       "      <td>-5102.1</td>\n",
       "      <td>4341.33</td>\n",
       "      <td>48.8</td>\n",
       "      <td>19.6</td>\n",
       "      <td>0.9</td>\n",
       "      <td>0.7</td>\n",
       "    </tr>\n",
       "    <tr>\n",
       "      <th>139</th>\n",
       "      <td>Austria</td>\n",
       "      <td>2017</td>\n",
       "      <td>8772865.0</td>\n",
       "      <td>106.8</td>\n",
       "      <td>2.3</td>\n",
       "      <td>78.5</td>\n",
       "      <td>49.3</td>\n",
       "      <td>-6819.9</td>\n",
       "      <td>4412.56</td>\n",
       "      <td>49.1</td>\n",
       "      <td>19.3</td>\n",
       "      <td>3.4</td>\n",
       "      <td>2.3</td>\n",
       "    </tr>\n",
       "  </tbody>\n",
       "</table>\n",
       "</div>"
      ],
      "text/plain": [
       "     country  year    ToTPop.  PopDens  RealGDPGRChg(%)  GrDebtToGDP(%)  \\\n",
       "19   Austria  2013  8451860.0    102.9              0.0            81.3   \n",
       "49   Austria  2014  8507786.0    103.7              0.7            84.0   \n",
       "79   Austria  2015  8584926.0    104.9              1.0            84.9   \n",
       "109  Austria  2016  8700471.0    106.0              2.0            82.8   \n",
       "139  Austria  2017  8772865.0    106.8              2.3            78.5   \n",
       "\n",
       "     GovExpToGDP(%)  IntTdGoods  EmpDomCon  DepOnWorkP(%)  EduLev3(5-8)(%)  \\\n",
       "19             51.6     -6115.3    4219.77           48.1             22.2   \n",
       "49             52.4     -2828.7    4259.90           48.4             20.3   \n",
       "79             51.1     -2942.4    4285.54           48.7             19.6   \n",
       "109            50.1     -5102.1    4341.33           48.8             19.6   \n",
       "139            49.3     -6819.9    4412.56           49.1             19.3   \n",
       "\n",
       "     InduCostChg(%)  HICPChg(%)  \n",
       "19              2.9         3.4  \n",
       "49              2.9         1.8  \n",
       "79              2.9         0.8  \n",
       "109             0.9         0.7  \n",
       "139             3.4         2.3  "
      ]
     },
     "execution_count": 20,
     "metadata": {},
     "output_type": "execute_result"
    }
   ],
   "source": [
    "result_df_custom.head()"
   ]
  },
  {
   "cell_type": "code",
   "execution_count": 21,
   "id": "e53e29e4",
   "metadata": {},
   "outputs": [
    {
     "data": {
      "text/plain": [
       "300"
      ]
     },
     "execution_count": 21,
     "metadata": {},
     "output_type": "execute_result"
    }
   ],
   "source": [
    "len(result_df_custom)"
   ]
  },
  {
   "cell_type": "code",
   "execution_count": null,
   "id": "19550632",
   "metadata": {},
   "outputs": [],
   "source": []
  },
  {
   "cell_type": "markdown",
   "id": "d68eca20",
   "metadata": {},
   "source": [
    "**STEP 8:** get geo reference for all countries in the worlds"
   ]
  },
  {
   "cell_type": "code",
   "execution_count": 22,
   "id": "658c458c",
   "metadata": {},
   "outputs": [],
   "source": [
    "# Get country geographical data\n",
    "from country_codes import country_geo_dic\n",
    "df_country_geo = pd.DataFrame(country_geo_dic).T\n",
    "df_country_geo.index.name = None\n",
    "df_country_geo.reset_index(inplace=True)\n",
    "df_country_geo.rename(columns={'index': 'country'}, inplace=True)"
   ]
  },
  {
   "cell_type": "code",
   "execution_count": 23,
   "id": "60ab8e84",
   "metadata": {},
   "outputs": [
    {
     "data": {
      "text/html": [
       "<div>\n",
       "<style scoped>\n",
       "    .dataframe tbody tr th:only-of-type {\n",
       "        vertical-align: middle;\n",
       "    }\n",
       "\n",
       "    .dataframe tbody tr th {\n",
       "        vertical-align: top;\n",
       "    }\n",
       "\n",
       "    .dataframe thead th {\n",
       "        text-align: right;\n",
       "    }\n",
       "</style>\n",
       "<table border=\"1\" class=\"dataframe\">\n",
       "  <thead>\n",
       "    <tr style=\"text-align: right;\">\n",
       "      <th></th>\n",
       "      <th>country</th>\n",
       "      <th>region</th>\n",
       "      <th>continent</th>\n",
       "    </tr>\n",
       "  </thead>\n",
       "  <tbody>\n",
       "    <tr>\n",
       "      <th>0</th>\n",
       "      <td>Algeria</td>\n",
       "      <td>Northern Africa</td>\n",
       "      <td>Africa</td>\n",
       "    </tr>\n",
       "    <tr>\n",
       "      <th>1</th>\n",
       "      <td>Egypt</td>\n",
       "      <td>Northern Africa</td>\n",
       "      <td>Africa</td>\n",
       "    </tr>\n",
       "    <tr>\n",
       "      <th>2</th>\n",
       "      <td>Libya</td>\n",
       "      <td>Northern Africa</td>\n",
       "      <td>Africa</td>\n",
       "    </tr>\n",
       "    <tr>\n",
       "      <th>3</th>\n",
       "      <td>Morocco</td>\n",
       "      <td>Northern Africa</td>\n",
       "      <td>Africa</td>\n",
       "    </tr>\n",
       "    <tr>\n",
       "      <th>4</th>\n",
       "      <td>Sudan</td>\n",
       "      <td>Northern Africa</td>\n",
       "      <td>Africa</td>\n",
       "    </tr>\n",
       "  </tbody>\n",
       "</table>\n",
       "</div>"
      ],
      "text/plain": [
       "   country           region continent\n",
       "0  Algeria  Northern Africa    Africa\n",
       "1    Egypt  Northern Africa    Africa\n",
       "2    Libya  Northern Africa    Africa\n",
       "3  Morocco  Northern Africa    Africa\n",
       "4    Sudan  Northern Africa    Africa"
      ]
     },
     "execution_count": 23,
     "metadata": {},
     "output_type": "execute_result"
    }
   ],
   "source": [
    "df_country_geo.head()"
   ]
  },
  {
   "cell_type": "code",
   "execution_count": 24,
   "id": "456c2cc3",
   "metadata": {},
   "outputs": [
    {
     "data": {
      "text/plain": [
       "249"
      ]
     },
     "execution_count": 24,
     "metadata": {},
     "output_type": "execute_result"
    }
   ],
   "source": [
    "len(df_country_geo)"
   ]
  },
  {
   "cell_type": "code",
   "execution_count": null,
   "id": "d221edf7",
   "metadata": {},
   "outputs": [],
   "source": []
  },
  {
   "cell_type": "markdown",
   "id": "5eafe8bd",
   "metadata": {},
   "source": [
    "**STEP 9:** add column 'geo' with values reference to 'result_df_custom' (our dataframe)"
   ]
  },
  {
   "cell_type": "code",
   "execution_count": 25,
   "id": "22d9c094",
   "metadata": {},
   "outputs": [],
   "source": [
    "result_df_custom = result_df_custom.merge(df_country_geo[['country', 'region']], on='country', how='left')\n",
    "result_df_custom.rename(columns={'region': 'geo'}, inplace=True)"
   ]
  },
  {
   "cell_type": "code",
   "execution_count": 26,
   "id": "1e7b408e",
   "metadata": {},
   "outputs": [],
   "source": [
    "# Move 'geo' to first column\n",
    "cols = ['geo'] + [col for col in result_df_custom if col != 'geo']\n",
    "result_df_custom = result_df_custom[cols]"
   ]
  },
  {
   "cell_type": "code",
   "execution_count": 27,
   "id": "da0fa2c1",
   "metadata": {},
   "outputs": [
    {
     "data": {
      "text/html": [
       "<div>\n",
       "<style scoped>\n",
       "    .dataframe tbody tr th:only-of-type {\n",
       "        vertical-align: middle;\n",
       "    }\n",
       "\n",
       "    .dataframe tbody tr th {\n",
       "        vertical-align: top;\n",
       "    }\n",
       "\n",
       "    .dataframe thead th {\n",
       "        text-align: right;\n",
       "    }\n",
       "</style>\n",
       "<table border=\"1\" class=\"dataframe\">\n",
       "  <thead>\n",
       "    <tr style=\"text-align: right;\">\n",
       "      <th></th>\n",
       "      <th>geo</th>\n",
       "      <th>country</th>\n",
       "      <th>year</th>\n",
       "      <th>ToTPop.</th>\n",
       "      <th>PopDens</th>\n",
       "      <th>RealGDPGRChg(%)</th>\n",
       "      <th>GrDebtToGDP(%)</th>\n",
       "      <th>GovExpToGDP(%)</th>\n",
       "      <th>IntTdGoods</th>\n",
       "      <th>EmpDomCon</th>\n",
       "      <th>DepOnWorkP(%)</th>\n",
       "      <th>EduLev3(5-8)(%)</th>\n",
       "      <th>InduCostChg(%)</th>\n",
       "      <th>HICPChg(%)</th>\n",
       "    </tr>\n",
       "  </thead>\n",
       "  <tbody>\n",
       "    <tr>\n",
       "      <th>0</th>\n",
       "      <td>Western Europe</td>\n",
       "      <td>Austria</td>\n",
       "      <td>2013</td>\n",
       "      <td>8451860.0</td>\n",
       "      <td>102.9</td>\n",
       "      <td>0.0</td>\n",
       "      <td>81.3</td>\n",
       "      <td>51.6</td>\n",
       "      <td>-6115.3</td>\n",
       "      <td>4219.77</td>\n",
       "      <td>48.1</td>\n",
       "      <td>22.2</td>\n",
       "      <td>2.9</td>\n",
       "      <td>3.4</td>\n",
       "    </tr>\n",
       "    <tr>\n",
       "      <th>1</th>\n",
       "      <td>Western Europe</td>\n",
       "      <td>Austria</td>\n",
       "      <td>2014</td>\n",
       "      <td>8507786.0</td>\n",
       "      <td>103.7</td>\n",
       "      <td>0.7</td>\n",
       "      <td>84.0</td>\n",
       "      <td>52.4</td>\n",
       "      <td>-2828.7</td>\n",
       "      <td>4259.90</td>\n",
       "      <td>48.4</td>\n",
       "      <td>20.3</td>\n",
       "      <td>2.9</td>\n",
       "      <td>1.8</td>\n",
       "    </tr>\n",
       "    <tr>\n",
       "      <th>2</th>\n",
       "      <td>Western Europe</td>\n",
       "      <td>Austria</td>\n",
       "      <td>2015</td>\n",
       "      <td>8584926.0</td>\n",
       "      <td>104.9</td>\n",
       "      <td>1.0</td>\n",
       "      <td>84.9</td>\n",
       "      <td>51.1</td>\n",
       "      <td>-2942.4</td>\n",
       "      <td>4285.54</td>\n",
       "      <td>48.7</td>\n",
       "      <td>19.6</td>\n",
       "      <td>2.9</td>\n",
       "      <td>0.8</td>\n",
       "    </tr>\n",
       "    <tr>\n",
       "      <th>3</th>\n",
       "      <td>Western Europe</td>\n",
       "      <td>Austria</td>\n",
       "      <td>2016</td>\n",
       "      <td>8700471.0</td>\n",
       "      <td>106.0</td>\n",
       "      <td>2.0</td>\n",
       "      <td>82.8</td>\n",
       "      <td>50.1</td>\n",
       "      <td>-5102.1</td>\n",
       "      <td>4341.33</td>\n",
       "      <td>48.8</td>\n",
       "      <td>19.6</td>\n",
       "      <td>0.9</td>\n",
       "      <td>0.7</td>\n",
       "    </tr>\n",
       "    <tr>\n",
       "      <th>4</th>\n",
       "      <td>Western Europe</td>\n",
       "      <td>Austria</td>\n",
       "      <td>2017</td>\n",
       "      <td>8772865.0</td>\n",
       "      <td>106.8</td>\n",
       "      <td>2.3</td>\n",
       "      <td>78.5</td>\n",
       "      <td>49.3</td>\n",
       "      <td>-6819.9</td>\n",
       "      <td>4412.56</td>\n",
       "      <td>49.1</td>\n",
       "      <td>19.3</td>\n",
       "      <td>3.4</td>\n",
       "      <td>2.3</td>\n",
       "    </tr>\n",
       "  </tbody>\n",
       "</table>\n",
       "</div>"
      ],
      "text/plain": [
       "              geo  country  year    ToTPop.  PopDens  RealGDPGRChg(%)  \\\n",
       "0  Western Europe  Austria  2013  8451860.0    102.9              0.0   \n",
       "1  Western Europe  Austria  2014  8507786.0    103.7              0.7   \n",
       "2  Western Europe  Austria  2015  8584926.0    104.9              1.0   \n",
       "3  Western Europe  Austria  2016  8700471.0    106.0              2.0   \n",
       "4  Western Europe  Austria  2017  8772865.0    106.8              2.3   \n",
       "\n",
       "   GrDebtToGDP(%)  GovExpToGDP(%)  IntTdGoods  EmpDomCon  DepOnWorkP(%)  \\\n",
       "0            81.3            51.6     -6115.3    4219.77           48.1   \n",
       "1            84.0            52.4     -2828.7    4259.90           48.4   \n",
       "2            84.9            51.1     -2942.4    4285.54           48.7   \n",
       "3            82.8            50.1     -5102.1    4341.33           48.8   \n",
       "4            78.5            49.3     -6819.9    4412.56           49.1   \n",
       "\n",
       "   EduLev3(5-8)(%)  InduCostChg(%)  HICPChg(%)  \n",
       "0             22.2             2.9         3.4  \n",
       "1             20.3             2.9         1.8  \n",
       "2             19.6             2.9         0.8  \n",
       "3             19.6             0.9         0.7  \n",
       "4             19.3             3.4         2.3  "
      ]
     },
     "execution_count": 27,
     "metadata": {},
     "output_type": "execute_result"
    }
   ],
   "source": [
    "result_df_custom.head()"
   ]
  },
  {
   "cell_type": "code",
   "execution_count": 28,
   "id": "efdde370",
   "metadata": {},
   "outputs": [
    {
     "data": {
      "text/plain": [
       "300"
      ]
     },
     "execution_count": 28,
     "metadata": {},
     "output_type": "execute_result"
    }
   ],
   "source": [
    "len(result_df_custom)"
   ]
  },
  {
   "cell_type": "code",
   "execution_count": null,
   "id": "2e43b29e",
   "metadata": {},
   "outputs": [],
   "source": []
  },
  {
   "cell_type": "code",
   "execution_count": null,
   "id": "96cd0e51",
   "metadata": {},
   "outputs": [],
   "source": []
  },
  {
   "cell_type": "markdown",
   "id": "1481f36d",
   "metadata": {},
   "source": [
    "# Check missing values"
   ]
  },
  {
   "cell_type": "code",
   "execution_count": null,
   "id": "d98bc078",
   "metadata": {},
   "outputs": [],
   "source": []
  },
  {
   "cell_type": "markdown",
   "id": "01bdf284",
   "metadata": {},
   "source": [
    "**STEP 1:** check MCAR, MAR, MNAR"
   ]
  },
  {
   "cell_type": "code",
   "execution_count": 29,
   "id": "753f9803",
   "metadata": {},
   "outputs": [
    {
     "name": "stdout",
     "output_type": "stream",
     "text": [
      "Following check also if data:\n",
      "- Missing completely at random (MCAR)\n",
      "- Missing at random (MAR)\n",
      "- Missing not at random (MNAR)\n",
      "\n",
      "*Total data*: 3300\n",
      "*Total NaN in dataframe*: 40\n",
      "*Total Zero in dataframe*: 44\n",
      "*Percentage of NaN values to total size*: 1.21%\n",
      "*Percentage of Zero values to total size*: 1.33%\n",
      "*Total NaN + Total Zero*: 2.55%\n",
      "\n",
      "*Column: NaN&Zero to values*\n"
     ]
    },
    {
     "name": "stderr",
     "output_type": "stream",
     "text": [
      "C:\\Users/utente/Desktop/Master ACF/financial_modeling/dataset/notebook/UDF/macro_udf\\macro_udf.py:242: FutureWarning: DataFrame.applymap has been deprecated. Use DataFrame.map instead.\n",
      "  perc_nanzero_to_values_df = perc_nanzero_to_values_df.applymap('{:.0f}%'.format)\n"
     ]
    },
    {
     "data": {
      "text/html": [
       "<div>\n",
       "<style scoped>\n",
       "    .dataframe tbody tr th:only-of-type {\n",
       "        vertical-align: middle;\n",
       "    }\n",
       "\n",
       "    .dataframe tbody tr th {\n",
       "        vertical-align: top;\n",
       "    }\n",
       "\n",
       "    .dataframe thead th {\n",
       "        text-align: right;\n",
       "    }\n",
       "</style>\n",
       "<table border=\"1\" class=\"dataframe\">\n",
       "  <thead>\n",
       "    <tr style=\"text-align: right;\">\n",
       "      <th></th>\n",
       "      <th>%Zero</th>\n",
       "      <th>%NaN</th>\n",
       "    </tr>\n",
       "  </thead>\n",
       "  <tbody>\n",
       "    <tr>\n",
       "      <th>ToTPop.</th>\n",
       "      <td>0%</td>\n",
       "      <td>0%</td>\n",
       "    </tr>\n",
       "    <tr>\n",
       "      <th>PopDens</th>\n",
       "      <td>0%</td>\n",
       "      <td>0%</td>\n",
       "    </tr>\n",
       "    <tr>\n",
       "      <th>RealGDPGRChg(%)</th>\n",
       "      <td>1%</td>\n",
       "      <td>0%</td>\n",
       "    </tr>\n",
       "    <tr>\n",
       "      <th>GrDebtToGDP(%)</th>\n",
       "      <td>0%</td>\n",
       "      <td>0%</td>\n",
       "    </tr>\n",
       "    <tr>\n",
       "      <th>GovExpToGDP(%)</th>\n",
       "      <td>0%</td>\n",
       "      <td>0%</td>\n",
       "    </tr>\n",
       "    <tr>\n",
       "      <th>IntTdGoods</th>\n",
       "      <td>0%</td>\n",
       "      <td>0%</td>\n",
       "    </tr>\n",
       "    <tr>\n",
       "      <th>EmpDomCon</th>\n",
       "      <td>0%</td>\n",
       "      <td>0%</td>\n",
       "    </tr>\n",
       "    <tr>\n",
       "      <th>DepOnWorkP(%)</th>\n",
       "      <td>0%</td>\n",
       "      <td>0%</td>\n",
       "    </tr>\n",
       "    <tr>\n",
       "      <th>EduLev3(5-8)(%)</th>\n",
       "      <td>0%</td>\n",
       "      <td>0%</td>\n",
       "    </tr>\n",
       "    <tr>\n",
       "      <th>InduCostChg(%)</th>\n",
       "      <td>0%</td>\n",
       "      <td>1%</td>\n",
       "    </tr>\n",
       "    <tr>\n",
       "      <th>HICPChg(%)</th>\n",
       "      <td>1%</td>\n",
       "      <td>0%</td>\n",
       "    </tr>\n",
       "  </tbody>\n",
       "</table>\n",
       "</div>"
      ],
      "text/plain": [
       "                %Zero %NaN\n",
       "ToTPop.            0%   0%\n",
       "PopDens            0%   0%\n",
       "RealGDPGRChg(%)    1%   0%\n",
       "GrDebtToGDP(%)     0%   0%\n",
       "GovExpToGDP(%)     0%   0%\n",
       "IntTdGoods         0%   0%\n",
       "EmpDomCon          0%   0%\n",
       "DepOnWorkP(%)      0%   0%\n",
       "EduLev3(5-8)(%)    0%   0%\n",
       "InduCostChg(%)     0%   1%\n",
       "HICPChg(%)         1%   0%"
      ]
     },
     "metadata": {},
     "output_type": "display_data"
    },
    {
     "name": "stdout",
     "output_type": "stream",
     "text": [
      "\n",
      "\n",
      "*Total NaN&Zero concentration*\n"
     ]
    },
    {
     "name": "stderr",
     "output_type": "stream",
     "text": [
      "C:\\Users/utente/Desktop/Master ACF/financial_modeling/dataset/notebook/UDF/macro_udf\\macro_udf.py:248: FutureWarning: DataFrame.applymap has been deprecated. Use DataFrame.map instead.\n",
      "  percentage_nan_df = percentage_nan_df.applymap('{:.0f}%'.format)\n"
     ]
    },
    {
     "data": {
      "text/html": [
       "<div>\n",
       "<style scoped>\n",
       "    .dataframe tbody tr th:only-of-type {\n",
       "        vertical-align: middle;\n",
       "    }\n",
       "\n",
       "    .dataframe tbody tr th {\n",
       "        vertical-align: top;\n",
       "    }\n",
       "\n",
       "    .dataframe thead th {\n",
       "        text-align: right;\n",
       "    }\n",
       "</style>\n",
       "<table border=\"1\" class=\"dataframe\">\n",
       "  <thead>\n",
       "    <tr style=\"text-align: right;\">\n",
       "      <th></th>\n",
       "      <th>%Zero</th>\n",
       "      <th>%NaN</th>\n",
       "    </tr>\n",
       "  </thead>\n",
       "  <tbody>\n",
       "    <tr>\n",
       "      <th>ToTPop.</th>\n",
       "      <td>0%</td>\n",
       "      <td>0%</td>\n",
       "    </tr>\n",
       "    <tr>\n",
       "      <th>PopDens</th>\n",
       "      <td>0%</td>\n",
       "      <td>0%</td>\n",
       "    </tr>\n",
       "    <tr>\n",
       "      <th>RealGDPGRChg(%)</th>\n",
       "      <td>9%</td>\n",
       "      <td>0%</td>\n",
       "    </tr>\n",
       "    <tr>\n",
       "      <th>GrDebtToGDP(%)</th>\n",
       "      <td>68%</td>\n",
       "      <td>0%</td>\n",
       "    </tr>\n",
       "    <tr>\n",
       "      <th>GovExpToGDP(%)</th>\n",
       "      <td>2%</td>\n",
       "      <td>0%</td>\n",
       "    </tr>\n",
       "    <tr>\n",
       "      <th>IntTdGoods</th>\n",
       "      <td>0%</td>\n",
       "      <td>75%</td>\n",
       "    </tr>\n",
       "    <tr>\n",
       "      <th>EmpDomCon</th>\n",
       "      <td>0%</td>\n",
       "      <td>0%</td>\n",
       "    </tr>\n",
       "    <tr>\n",
       "      <th>DepOnWorkP(%)</th>\n",
       "      <td>0%</td>\n",
       "      <td>0%</td>\n",
       "    </tr>\n",
       "    <tr>\n",
       "      <th>EduLev3(5-8)(%)</th>\n",
       "      <td>0%</td>\n",
       "      <td>0%</td>\n",
       "    </tr>\n",
       "    <tr>\n",
       "      <th>InduCostChg(%)</th>\n",
       "      <td>0%</td>\n",
       "      <td>25%</td>\n",
       "    </tr>\n",
       "    <tr>\n",
       "      <th>HICPChg(%)</th>\n",
       "      <td>20%</td>\n",
       "      <td>0%</td>\n",
       "    </tr>\n",
       "  </tbody>\n",
       "</table>\n",
       "</div>"
      ],
      "text/plain": [
       "                %Zero %NaN\n",
       "ToTPop.            0%   0%\n",
       "PopDens            0%   0%\n",
       "RealGDPGRChg(%)    9%   0%\n",
       "GrDebtToGDP(%)    68%   0%\n",
       "GovExpToGDP(%)     2%   0%\n",
       "IntTdGoods         0%  75%\n",
       "EmpDomCon          0%   0%\n",
       "DepOnWorkP(%)      0%   0%\n",
       "EduLev3(5-8)(%)    0%   0%\n",
       "InduCostChg(%)     0%  25%\n",
       "HICPChg(%)        20%   0%"
      ]
     },
     "metadata": {},
     "output_type": "display_data"
    },
    {
     "name": "stdout",
     "output_type": "stream",
     "text": [
      "\n",
      "*Total NaN&Zero concentration for each country. Threshold: if nan_sum[col] > 1 or zero_sum[col] > 1*\n"
     ]
    },
    {
     "data": {
      "text/html": [
       "<div>\n",
       "<style scoped>\n",
       "    .dataframe tbody tr th:only-of-type {\n",
       "        vertical-align: middle;\n",
       "    }\n",
       "\n",
       "    .dataframe tbody tr th {\n",
       "        vertical-align: top;\n",
       "    }\n",
       "\n",
       "    .dataframe thead th {\n",
       "        text-align: right;\n",
       "    }\n",
       "</style>\n",
       "<table border=\"1\" class=\"dataframe\">\n",
       "  <thead>\n",
       "    <tr style=\"text-align: right;\">\n",
       "      <th></th>\n",
       "      <th>Country</th>\n",
       "      <th>Column</th>\n",
       "      <th>Zero</th>\n",
       "      <th>(%)Zero-to-Val</th>\n",
       "      <th>NaN</th>\n",
       "      <th>(%)NaN-to-Val</th>\n",
       "    </tr>\n",
       "  </thead>\n",
       "  <tbody>\n",
       "    <tr>\n",
       "      <th>1</th>\n",
       "      <td>Iceland</td>\n",
       "      <td>GrDebtToGDP(%)</td>\n",
       "      <td>10</td>\n",
       "      <td>100%</td>\n",
       "      <td>0</td>\n",
       "      <td>0%</td>\n",
       "    </tr>\n",
       "    <tr>\n",
       "      <th>3</th>\n",
       "      <td>Norway</td>\n",
       "      <td>GrDebtToGDP(%)</td>\n",
       "      <td>10</td>\n",
       "      <td>100%</td>\n",
       "      <td>0</td>\n",
       "      <td>0%</td>\n",
       "    </tr>\n",
       "    <tr>\n",
       "      <th>5</th>\n",
       "      <td>Switzerland</td>\n",
       "      <td>GrDebtToGDP(%)</td>\n",
       "      <td>10</td>\n",
       "      <td>100%</td>\n",
       "      <td>0</td>\n",
       "      <td>0%</td>\n",
       "    </tr>\n",
       "    <tr>\n",
       "      <th>0</th>\n",
       "      <td>Cyprus</td>\n",
       "      <td>HICPChg(%)</td>\n",
       "      <td>3</td>\n",
       "      <td>30%</td>\n",
       "      <td>0</td>\n",
       "      <td>0%</td>\n",
       "    </tr>\n",
       "    <tr>\n",
       "      <th>7</th>\n",
       "      <td>Switzerland</td>\n",
       "      <td>InduCostChg(%)</td>\n",
       "      <td>0</td>\n",
       "      <td>0%</td>\n",
       "      <td>10</td>\n",
       "      <td>100%</td>\n",
       "    </tr>\n",
       "    <tr>\n",
       "      <th>2</th>\n",
       "      <td>Iceland</td>\n",
       "      <td>IntTdGoods</td>\n",
       "      <td>0</td>\n",
       "      <td>0%</td>\n",
       "      <td>10</td>\n",
       "      <td>100%</td>\n",
       "    </tr>\n",
       "    <tr>\n",
       "      <th>4</th>\n",
       "      <td>Norway</td>\n",
       "      <td>IntTdGoods</td>\n",
       "      <td>0</td>\n",
       "      <td>0%</td>\n",
       "      <td>10</td>\n",
       "      <td>100%</td>\n",
       "    </tr>\n",
       "    <tr>\n",
       "      <th>6</th>\n",
       "      <td>Switzerland</td>\n",
       "      <td>IntTdGoods</td>\n",
       "      <td>0</td>\n",
       "      <td>0%</td>\n",
       "      <td>10</td>\n",
       "      <td>100%</td>\n",
       "    </tr>\n",
       "  </tbody>\n",
       "</table>\n",
       "</div>"
      ],
      "text/plain": [
       "       Country          Column  Zero (%)Zero-to-Val  NaN (%)NaN-to-Val\n",
       "1      Iceland  GrDebtToGDP(%)    10           100%    0            0%\n",
       "3       Norway  GrDebtToGDP(%)    10           100%    0            0%\n",
       "5  Switzerland  GrDebtToGDP(%)    10           100%    0            0%\n",
       "0       Cyprus      HICPChg(%)     3            30%    0            0%\n",
       "7  Switzerland  InduCostChg(%)     0             0%   10          100%\n",
       "2      Iceland      IntTdGoods     0             0%   10          100%\n",
       "4       Norway      IntTdGoods     0             0%   10          100%\n",
       "6  Switzerland      IntTdGoods     0             0%   10          100%"
      ]
     },
     "metadata": {},
     "output_type": "display_data"
    },
    {
     "name": "stdout",
     "output_type": "stream",
     "text": [
      "(High MNAR is an alarm that data are wrong)\n",
      "\n"
     ]
    }
   ],
   "source": [
    "macro_udf.nan_sum_up(result_df_custom)"
   ]
  },
  {
   "cell_type": "code",
   "execution_count": null,
   "id": "23ff4e55",
   "metadata": {},
   "outputs": [],
   "source": []
  },
  {
   "cell_type": "markdown",
   "id": "65b80375",
   "metadata": {},
   "source": [
    "**STEP 2:** check countries total 0 or nan values over threshold (custom: 0.3)"
   ]
  },
  {
   "cell_type": "code",
   "execution_count": 30,
   "id": "4535c934",
   "metadata": {},
   "outputs": [
    {
     "name": "stdout",
     "output_type": "stream",
     "text": [
      "Inserire \"0\" per cercare zeri o \"na\" per cercare valori mancanti: 0\n"
     ]
    }
   ],
   "source": [
    "col_to_replace, percent_results = macro_udf.columns_zeronanover3(result_df_custom, threshold=0.3)"
   ]
  },
  {
   "cell_type": "markdown",
   "id": "2acc595b",
   "metadata": {},
   "source": [
    "<u>Show columns and countries over threshold"
   ]
  },
  {
   "cell_type": "code",
   "execution_count": 31,
   "id": "c4211ffc",
   "metadata": {},
   "outputs": [
    {
     "name": "stdout",
     "output_type": "stream",
     "text": [
      "Select col_to_replace or percent_results: col_to_replace\n",
      "\n",
      "Country with more than 30% zero or nan\n",
      "\n",
      "Focus on columns and countries\n"
     ]
    },
    {
     "data": {
      "text/html": [
       "<div>\n",
       "<style scoped>\n",
       "    .dataframe tbody tr th:only-of-type {\n",
       "        vertical-align: middle;\n",
       "    }\n",
       "\n",
       "    .dataframe tbody tr th {\n",
       "        vertical-align: top;\n",
       "    }\n",
       "\n",
       "    .dataframe thead th {\n",
       "        text-align: right;\n",
       "    }\n",
       "</style>\n",
       "<table border=\"1\" class=\"dataframe\">\n",
       "  <thead>\n",
       "    <tr style=\"text-align: right;\">\n",
       "      <th></th>\n",
       "      <th>ToTPop.</th>\n",
       "      <th>PopDens</th>\n",
       "      <th>RealGDPGRChg(%)</th>\n",
       "      <th>GrDebtToGDP(%)</th>\n",
       "      <th>GovExpToGDP(%)</th>\n",
       "      <th>IntTdGoods</th>\n",
       "      <th>EmpDomCon</th>\n",
       "      <th>DepOnWorkP(%)</th>\n",
       "      <th>EduLev3(5-8)(%)</th>\n",
       "      <th>InduCostChg(%)</th>\n",
       "      <th>HICPChg(%)</th>\n",
       "    </tr>\n",
       "  </thead>\n",
       "  <tbody>\n",
       "    <tr>\n",
       "      <th>0</th>\n",
       "      <td>None</td>\n",
       "      <td>None</td>\n",
       "      <td>None</td>\n",
       "      <td>Iceland</td>\n",
       "      <td>None</td>\n",
       "      <td>None</td>\n",
       "      <td>None</td>\n",
       "      <td>None</td>\n",
       "      <td>None</td>\n",
       "      <td>None</td>\n",
       "      <td>None</td>\n",
       "    </tr>\n",
       "    <tr>\n",
       "      <th>1</th>\n",
       "      <td>None</td>\n",
       "      <td>None</td>\n",
       "      <td>None</td>\n",
       "      <td>Norway</td>\n",
       "      <td>None</td>\n",
       "      <td>None</td>\n",
       "      <td>None</td>\n",
       "      <td>None</td>\n",
       "      <td>None</td>\n",
       "      <td>None</td>\n",
       "      <td>None</td>\n",
       "    </tr>\n",
       "    <tr>\n",
       "      <th>2</th>\n",
       "      <td>None</td>\n",
       "      <td>None</td>\n",
       "      <td>None</td>\n",
       "      <td>Switzerland</td>\n",
       "      <td>None</td>\n",
       "      <td>None</td>\n",
       "      <td>None</td>\n",
       "      <td>None</td>\n",
       "      <td>None</td>\n",
       "      <td>None</td>\n",
       "      <td>None</td>\n",
       "    </tr>\n",
       "  </tbody>\n",
       "</table>\n",
       "</div>"
      ],
      "text/plain": [
       "  ToTPop. PopDens RealGDPGRChg(%) GrDebtToGDP(%) GovExpToGDP(%) IntTdGoods  \\\n",
       "0    None    None            None        Iceland           None       None   \n",
       "1    None    None            None         Norway           None       None   \n",
       "2    None    None            None    Switzerland           None       None   \n",
       "\n",
       "  EmpDomCon DepOnWorkP(%) EduLev3(5-8)(%) InduCostChg(%) HICPChg(%)  \n",
       "0      None          None            None           None       None  \n",
       "1      None          None            None           None       None  \n",
       "2      None          None            None           None       None  "
      ]
     },
     "metadata": {},
     "output_type": "display_data"
    },
    {
     "name": "stdout",
     "output_type": "stream",
     "text": [
      "\n",
      "List of countries found:\n"
     ]
    },
    {
     "data": {
      "text/plain": [
       "['Iceland', 'Norway', 'Switzerland']"
      ]
     },
     "execution_count": 31,
     "metadata": {},
     "output_type": "execute_result"
    }
   ],
   "source": [
    "# Select: col_to_replace\n",
    "# Code will show columns by country over 30% of NaN\n",
    "df, col_to_replace_no_nan = macro_udf.to_check_zeronan(result_df_custom, col_to_replace, percent_results)\n",
    "\n",
    "# Output\n",
    "df_to_check_zeronan = pd.DataFrame(df)\n",
    "display(df_to_check_zeronan)\n",
    "print(f'\\nList of countries found:')\n",
    "col_to_replace_no_nan"
   ]
  },
  {
   "cell_type": "markdown",
   "id": "e6050663",
   "metadata": {},
   "source": [
    "<u>Check concentration of Zero or Nan for countries found"
   ]
  },
  {
   "cell_type": "code",
   "execution_count": 35,
   "id": "496f6c89",
   "metadata": {},
   "outputs": [
    {
     "name": "stdout",
     "output_type": "stream",
     "text": [
      "Select col_to_replace or percent_results: percent_results\n",
      "\n",
      "Country with more than 30% zero or nan\n",
      "\n",
      "Column rate nan or zero compared to total\n"
     ]
    },
    {
     "data": {
      "text/html": [
       "<div>\n",
       "<style scoped>\n",
       "    .dataframe tbody tr th:only-of-type {\n",
       "        vertical-align: middle;\n",
       "    }\n",
       "\n",
       "    .dataframe tbody tr th {\n",
       "        vertical-align: top;\n",
       "    }\n",
       "\n",
       "    .dataframe thead th {\n",
       "        text-align: right;\n",
       "    }\n",
       "</style>\n",
       "<table border=\"1\" class=\"dataframe\">\n",
       "  <thead>\n",
       "    <tr style=\"text-align: right;\">\n",
       "      <th></th>\n",
       "      <th>ToTPop.</th>\n",
       "      <th>PopDens</th>\n",
       "      <th>RealGDPGRChg(%)</th>\n",
       "      <th>GrDebtToGDP(%)</th>\n",
       "      <th>GovExpToGDP(%)</th>\n",
       "      <th>IntTdGoods</th>\n",
       "      <th>EmpDomCon</th>\n",
       "      <th>DepOnWorkP(%)</th>\n",
       "      <th>EduLev3(5-8)(%)</th>\n",
       "      <th>InduCostChg(%)</th>\n",
       "      <th>HICPChg(%)</th>\n",
       "    </tr>\n",
       "  </thead>\n",
       "  <tbody>\n",
       "    <tr>\n",
       "      <th>0</th>\n",
       "      <td>0</td>\n",
       "      <td>0</td>\n",
       "      <td>0.0</td>\n",
       "      <td>100.0</td>\n",
       "      <td>0.0</td>\n",
       "      <td>0</td>\n",
       "      <td>0</td>\n",
       "      <td>0</td>\n",
       "      <td>0</td>\n",
       "      <td>0</td>\n",
       "      <td>0.0</td>\n",
       "    </tr>\n",
       "  </tbody>\n",
       "</table>\n",
       "</div>"
      ],
      "text/plain": [
       "   ToTPop.  PopDens  RealGDPGRChg(%)  GrDebtToGDP(%)  GovExpToGDP(%)  \\\n",
       "0        0        0              0.0           100.0             0.0   \n",
       "\n",
       "   IntTdGoods  EmpDomCon  DepOnWorkP(%)  EduLev3(5-8)(%)  InduCostChg(%)  \\\n",
       "0           0          0              0                0               0   \n",
       "\n",
       "   HICPChg(%)  \n",
       "0         0.0  "
      ]
     },
     "metadata": {},
     "output_type": "display_data"
    },
    {
     "name": "stdout",
     "output_type": "stream",
     "text": [
      "\n",
      "List of countries which have percentage showed:\n"
     ]
    },
    {
     "data": {
      "text/plain": [
       "'10%'"
      ]
     },
     "execution_count": 35,
     "metadata": {},
     "output_type": "execute_result"
    }
   ],
   "source": [
    "# Select: percent_results\n",
    "df_check_perc, tot_countries_found = macro_udf.to_check_zeronan(result_df_custom, col_to_replace, percent_results)\n",
    "\n",
    "# Output\n",
    "df_check_perc = pd.DataFrame(df_check_perc)\n",
    "display(df_check_perc)\n",
    "print(f'\\nList of countries which have percentage showed:')\n",
    "tot_countries_found"
   ]
  },
  {
   "cell_type": "markdown",
   "id": "648a4430",
   "metadata": {},
   "source": [
    "<u>Replace 0 to nan in countries found over threshold"
   ]
  },
  {
   "cell_type": "code",
   "execution_count": 36,
   "id": "deb03a69",
   "metadata": {},
   "outputs": [
    {
     "name": "stdout",
     "output_type": "stream",
     "text": [
      "['Iceland', 'Norway', 'Switzerland']\n",
      "\n",
      "Enter the values to remove, separated by a comma: \n"
     ]
    }
   ],
   "source": [
    "df_test = macro_udf.replace_zero_values(result_df_custom,col_to_replace_no_nan)"
   ]
  },
  {
   "cell_type": "code",
   "execution_count": null,
   "id": "2946fcf3",
   "metadata": {},
   "outputs": [],
   "source": []
  },
  {
   "cell_type": "markdown",
   "id": "89cbad3b",
   "metadata": {},
   "source": [
    "**STEP 3:** check total missing values"
   ]
  },
  {
   "cell_type": "code",
   "execution_count": 37,
   "id": "cb357781",
   "metadata": {},
   "outputs": [
    {
     "name": "stdout",
     "output_type": "stream",
     "text": [
      "ddc meaning: data, columns, countries\n",
      "\n",
      "a): Are NaN over 30% of total data?\n"
     ]
    },
    {
     "data": {
      "text/html": [
       "<div>\n",
       "<style scoped>\n",
       "    .dataframe tbody tr th:only-of-type {\n",
       "        vertical-align: middle;\n",
       "    }\n",
       "\n",
       "    .dataframe tbody tr th {\n",
       "        vertical-align: top;\n",
       "    }\n",
       "\n",
       "    .dataframe thead th {\n",
       "        text-align: right;\n",
       "    }\n",
       "</style>\n",
       "<table border=\"1\" class=\"dataframe\">\n",
       "  <thead>\n",
       "    <tr style=\"text-align: right;\">\n",
       "      <th></th>\n",
       "      <th>Total values</th>\n",
       "      <th>Total NaN values</th>\n",
       "      <th>% NaN values</th>\n",
       "      <th>Threshold 30% over</th>\n",
       "    </tr>\n",
       "  </thead>\n",
       "  <tbody>\n",
       "    <tr>\n",
       "      <th>0</th>\n",
       "      <td>3300</td>\n",
       "      <td>72</td>\n",
       "      <td>2%</td>\n",
       "      <td>No</td>\n",
       "    </tr>\n",
       "  </tbody>\n",
       "</table>\n",
       "</div>"
      ],
      "text/plain": [
       "   Total values  Total NaN values % NaN values Threshold 30% over\n",
       "0          3300                72           2%                 No"
      ]
     },
     "metadata": {},
     "output_type": "display_data"
    },
    {
     "name": "stdout",
     "output_type": "stream",
     "text": [
      "\n",
      "b) Are NaN over 30% in some columns?\n"
     ]
    },
    {
     "data": {
      "text/html": [
       "<div>\n",
       "<style scoped>\n",
       "    .dataframe tbody tr th:only-of-type {\n",
       "        vertical-align: middle;\n",
       "    }\n",
       "\n",
       "    .dataframe tbody tr th {\n",
       "        vertical-align: top;\n",
       "    }\n",
       "\n",
       "    .dataframe thead th {\n",
       "        text-align: right;\n",
       "    }\n",
       "</style>\n",
       "<table border=\"1\" class=\"dataframe\">\n",
       "  <thead>\n",
       "    <tr style=\"text-align: right;\">\n",
       "      <th></th>\n",
       "      <th>Column name</th>\n",
       "      <th>Total values</th>\n",
       "      <th>Total NaN values</th>\n",
       "      <th>% NaN values</th>\n",
       "      <th>Threshold 30% over</th>\n",
       "    </tr>\n",
       "  </thead>\n",
       "  <tbody>\n",
       "    <tr>\n",
       "      <th>0</th>\n",
       "      <td>ToTPop.</td>\n",
       "      <td>300</td>\n",
       "      <td>0</td>\n",
       "      <td>0%</td>\n",
       "      <td>No</td>\n",
       "    </tr>\n",
       "    <tr>\n",
       "      <th>1</th>\n",
       "      <td>PopDens</td>\n",
       "      <td>300</td>\n",
       "      <td>0</td>\n",
       "      <td>0%</td>\n",
       "      <td>No</td>\n",
       "    </tr>\n",
       "    <tr>\n",
       "      <th>2</th>\n",
       "      <td>RealGDPGRChg(%)</td>\n",
       "      <td>300</td>\n",
       "      <td>0</td>\n",
       "      <td>0%</td>\n",
       "      <td>No</td>\n",
       "    </tr>\n",
       "    <tr>\n",
       "      <th>3</th>\n",
       "      <td>GrDebtToGDP(%)</td>\n",
       "      <td>300</td>\n",
       "      <td>30</td>\n",
       "      <td>10%</td>\n",
       "      <td>No</td>\n",
       "    </tr>\n",
       "    <tr>\n",
       "      <th>4</th>\n",
       "      <td>GovExpToGDP(%)</td>\n",
       "      <td>300</td>\n",
       "      <td>1</td>\n",
       "      <td>0%</td>\n",
       "      <td>No</td>\n",
       "    </tr>\n",
       "    <tr>\n",
       "      <th>5</th>\n",
       "      <td>IntTdGoods</td>\n",
       "      <td>300</td>\n",
       "      <td>30</td>\n",
       "      <td>10%</td>\n",
       "      <td>No</td>\n",
       "    </tr>\n",
       "    <tr>\n",
       "      <th>6</th>\n",
       "      <td>EmpDomCon</td>\n",
       "      <td>300</td>\n",
       "      <td>0</td>\n",
       "      <td>0%</td>\n",
       "      <td>No</td>\n",
       "    </tr>\n",
       "    <tr>\n",
       "      <th>7</th>\n",
       "      <td>DepOnWorkP(%)</td>\n",
       "      <td>300</td>\n",
       "      <td>0</td>\n",
       "      <td>0%</td>\n",
       "      <td>No</td>\n",
       "    </tr>\n",
       "    <tr>\n",
       "      <th>8</th>\n",
       "      <td>EduLev3(5-8)(%)</td>\n",
       "      <td>300</td>\n",
       "      <td>0</td>\n",
       "      <td>0%</td>\n",
       "      <td>No</td>\n",
       "    </tr>\n",
       "    <tr>\n",
       "      <th>9</th>\n",
       "      <td>InduCostChg(%)</td>\n",
       "      <td>300</td>\n",
       "      <td>10</td>\n",
       "      <td>3%</td>\n",
       "      <td>No</td>\n",
       "    </tr>\n",
       "    <tr>\n",
       "      <th>10</th>\n",
       "      <td>HICPChg(%)</td>\n",
       "      <td>300</td>\n",
       "      <td>1</td>\n",
       "      <td>0%</td>\n",
       "      <td>No</td>\n",
       "    </tr>\n",
       "  </tbody>\n",
       "</table>\n",
       "</div>"
      ],
      "text/plain": [
       "        Column name  Total values  Total NaN values % NaN values  \\\n",
       "0           ToTPop.           300                 0           0%   \n",
       "1           PopDens           300                 0           0%   \n",
       "2   RealGDPGRChg(%)           300                 0           0%   \n",
       "3    GrDebtToGDP(%)           300                30          10%   \n",
       "4    GovExpToGDP(%)           300                 1           0%   \n",
       "5        IntTdGoods           300                30          10%   \n",
       "6         EmpDomCon           300                 0           0%   \n",
       "7     DepOnWorkP(%)           300                 0           0%   \n",
       "8   EduLev3(5-8)(%)           300                 0           0%   \n",
       "9    InduCostChg(%)           300                10           3%   \n",
       "10       HICPChg(%)           300                 1           0%   \n",
       "\n",
       "   Threshold 30% over  \n",
       "0                  No  \n",
       "1                  No  \n",
       "2                  No  \n",
       "3                  No  \n",
       "4                  No  \n",
       "5                  No  \n",
       "6                  No  \n",
       "7                  No  \n",
       "8                  No  \n",
       "9                  No  \n",
       "10                 No  "
      ]
     },
     "metadata": {},
     "output_type": "display_data"
    },
    {
     "name": "stdout",
     "output_type": "stream",
     "text": [
      "\n",
      "c) Are NaN over 30% in some countries?\n"
     ]
    },
    {
     "data": {
      "text/html": [
       "<div>\n",
       "<style scoped>\n",
       "    .dataframe tbody tr th:only-of-type {\n",
       "        vertical-align: middle;\n",
       "    }\n",
       "\n",
       "    .dataframe tbody tr th {\n",
       "        vertical-align: top;\n",
       "    }\n",
       "\n",
       "    .dataframe thead th {\n",
       "        text-align: right;\n",
       "    }\n",
       "</style>\n",
       "<table border=\"1\" class=\"dataframe\">\n",
       "  <thead>\n",
       "    <tr style=\"text-align: right;\">\n",
       "      <th></th>\n",
       "      <th>Country</th>\n",
       "      <th>Total values</th>\n",
       "      <th>Total NaN values</th>\n",
       "      <th>% NaN values</th>\n",
       "      <th>Threshold 30% over</th>\n",
       "    </tr>\n",
       "  </thead>\n",
       "  <tbody>\n",
       "    <tr>\n",
       "      <th>0</th>\n",
       "      <td>Austria</td>\n",
       "      <td>110</td>\n",
       "      <td>0</td>\n",
       "      <td>0%</td>\n",
       "      <td>No</td>\n",
       "    </tr>\n",
       "    <tr>\n",
       "      <th>1</th>\n",
       "      <td>Belgium</td>\n",
       "      <td>110</td>\n",
       "      <td>0</td>\n",
       "      <td>0%</td>\n",
       "      <td>No</td>\n",
       "    </tr>\n",
       "    <tr>\n",
       "      <th>2</th>\n",
       "      <td>Bulgaria</td>\n",
       "      <td>110</td>\n",
       "      <td>0</td>\n",
       "      <td>0%</td>\n",
       "      <td>No</td>\n",
       "    </tr>\n",
       "    <tr>\n",
       "      <th>3</th>\n",
       "      <td>Croatia</td>\n",
       "      <td>110</td>\n",
       "      <td>0</td>\n",
       "      <td>0%</td>\n",
       "      <td>No</td>\n",
       "    </tr>\n",
       "    <tr>\n",
       "      <th>4</th>\n",
       "      <td>Cyprus</td>\n",
       "      <td>110</td>\n",
       "      <td>0</td>\n",
       "      <td>0%</td>\n",
       "      <td>No</td>\n",
       "    </tr>\n",
       "    <tr>\n",
       "      <th>5</th>\n",
       "      <td>Czechia</td>\n",
       "      <td>110</td>\n",
       "      <td>0</td>\n",
       "      <td>0%</td>\n",
       "      <td>No</td>\n",
       "    </tr>\n",
       "    <tr>\n",
       "      <th>6</th>\n",
       "      <td>Denmark</td>\n",
       "      <td>110</td>\n",
       "      <td>0</td>\n",
       "      <td>0%</td>\n",
       "      <td>No</td>\n",
       "    </tr>\n",
       "    <tr>\n",
       "      <th>7</th>\n",
       "      <td>Estonia</td>\n",
       "      <td>110</td>\n",
       "      <td>0</td>\n",
       "      <td>0%</td>\n",
       "      <td>No</td>\n",
       "    </tr>\n",
       "    <tr>\n",
       "      <th>8</th>\n",
       "      <td>Finland</td>\n",
       "      <td>110</td>\n",
       "      <td>0</td>\n",
       "      <td>0%</td>\n",
       "      <td>No</td>\n",
       "    </tr>\n",
       "    <tr>\n",
       "      <th>9</th>\n",
       "      <td>France</td>\n",
       "      <td>110</td>\n",
       "      <td>0</td>\n",
       "      <td>0%</td>\n",
       "      <td>No</td>\n",
       "    </tr>\n",
       "    <tr>\n",
       "      <th>10</th>\n",
       "      <td>Germany</td>\n",
       "      <td>110</td>\n",
       "      <td>0</td>\n",
       "      <td>0%</td>\n",
       "      <td>No</td>\n",
       "    </tr>\n",
       "    <tr>\n",
       "      <th>11</th>\n",
       "      <td>Greece</td>\n",
       "      <td>110</td>\n",
       "      <td>0</td>\n",
       "      <td>0%</td>\n",
       "      <td>No</td>\n",
       "    </tr>\n",
       "    <tr>\n",
       "      <th>12</th>\n",
       "      <td>Hungary</td>\n",
       "      <td>110</td>\n",
       "      <td>0</td>\n",
       "      <td>0%</td>\n",
       "      <td>No</td>\n",
       "    </tr>\n",
       "    <tr>\n",
       "      <th>13</th>\n",
       "      <td>Iceland</td>\n",
       "      <td>110</td>\n",
       "      <td>20</td>\n",
       "      <td>18%</td>\n",
       "      <td>No</td>\n",
       "    </tr>\n",
       "    <tr>\n",
       "      <th>14</th>\n",
       "      <td>Ireland</td>\n",
       "      <td>110</td>\n",
       "      <td>0</td>\n",
       "      <td>0%</td>\n",
       "      <td>No</td>\n",
       "    </tr>\n",
       "    <tr>\n",
       "      <th>15</th>\n",
       "      <td>Italy</td>\n",
       "      <td>110</td>\n",
       "      <td>0</td>\n",
       "      <td>0%</td>\n",
       "      <td>No</td>\n",
       "    </tr>\n",
       "    <tr>\n",
       "      <th>16</th>\n",
       "      <td>Latvia</td>\n",
       "      <td>110</td>\n",
       "      <td>0</td>\n",
       "      <td>0%</td>\n",
       "      <td>No</td>\n",
       "    </tr>\n",
       "    <tr>\n",
       "      <th>17</th>\n",
       "      <td>Lithuania</td>\n",
       "      <td>110</td>\n",
       "      <td>0</td>\n",
       "      <td>0%</td>\n",
       "      <td>No</td>\n",
       "    </tr>\n",
       "    <tr>\n",
       "      <th>18</th>\n",
       "      <td>Luxembourg</td>\n",
       "      <td>110</td>\n",
       "      <td>0</td>\n",
       "      <td>0%</td>\n",
       "      <td>No</td>\n",
       "    </tr>\n",
       "    <tr>\n",
       "      <th>19</th>\n",
       "      <td>Malta</td>\n",
       "      <td>110</td>\n",
       "      <td>0</td>\n",
       "      <td>0%</td>\n",
       "      <td>No</td>\n",
       "    </tr>\n",
       "    <tr>\n",
       "      <th>20</th>\n",
       "      <td>Netherlands</td>\n",
       "      <td>110</td>\n",
       "      <td>0</td>\n",
       "      <td>0%</td>\n",
       "      <td>No</td>\n",
       "    </tr>\n",
       "    <tr>\n",
       "      <th>21</th>\n",
       "      <td>Norway</td>\n",
       "      <td>110</td>\n",
       "      <td>20</td>\n",
       "      <td>18%</td>\n",
       "      <td>No</td>\n",
       "    </tr>\n",
       "    <tr>\n",
       "      <th>22</th>\n",
       "      <td>Poland</td>\n",
       "      <td>110</td>\n",
       "      <td>0</td>\n",
       "      <td>0%</td>\n",
       "      <td>No</td>\n",
       "    </tr>\n",
       "    <tr>\n",
       "      <th>23</th>\n",
       "      <td>Portugal</td>\n",
       "      <td>110</td>\n",
       "      <td>0</td>\n",
       "      <td>0%</td>\n",
       "      <td>No</td>\n",
       "    </tr>\n",
       "    <tr>\n",
       "      <th>24</th>\n",
       "      <td>Romania</td>\n",
       "      <td>110</td>\n",
       "      <td>0</td>\n",
       "      <td>0%</td>\n",
       "      <td>No</td>\n",
       "    </tr>\n",
       "    <tr>\n",
       "      <th>25</th>\n",
       "      <td>Slovakia</td>\n",
       "      <td>110</td>\n",
       "      <td>0</td>\n",
       "      <td>0%</td>\n",
       "      <td>No</td>\n",
       "    </tr>\n",
       "    <tr>\n",
       "      <th>26</th>\n",
       "      <td>Slovenia</td>\n",
       "      <td>110</td>\n",
       "      <td>0</td>\n",
       "      <td>0%</td>\n",
       "      <td>No</td>\n",
       "    </tr>\n",
       "    <tr>\n",
       "      <th>27</th>\n",
       "      <td>Spain</td>\n",
       "      <td>110</td>\n",
       "      <td>0</td>\n",
       "      <td>0%</td>\n",
       "      <td>No</td>\n",
       "    </tr>\n",
       "    <tr>\n",
       "      <th>28</th>\n",
       "      <td>Sweden</td>\n",
       "      <td>110</td>\n",
       "      <td>0</td>\n",
       "      <td>0%</td>\n",
       "      <td>No</td>\n",
       "    </tr>\n",
       "    <tr>\n",
       "      <th>29</th>\n",
       "      <td>Switzerland</td>\n",
       "      <td>110</td>\n",
       "      <td>32</td>\n",
       "      <td>29%</td>\n",
       "      <td>No</td>\n",
       "    </tr>\n",
       "  </tbody>\n",
       "</table>\n",
       "</div>"
      ],
      "text/plain": [
       "        Country  Total values  Total NaN values % NaN values  \\\n",
       "0       Austria           110                 0           0%   \n",
       "1       Belgium           110                 0           0%   \n",
       "2      Bulgaria           110                 0           0%   \n",
       "3       Croatia           110                 0           0%   \n",
       "4        Cyprus           110                 0           0%   \n",
       "5       Czechia           110                 0           0%   \n",
       "6       Denmark           110                 0           0%   \n",
       "7       Estonia           110                 0           0%   \n",
       "8       Finland           110                 0           0%   \n",
       "9        France           110                 0           0%   \n",
       "10      Germany           110                 0           0%   \n",
       "11       Greece           110                 0           0%   \n",
       "12      Hungary           110                 0           0%   \n",
       "13      Iceland           110                20          18%   \n",
       "14      Ireland           110                 0           0%   \n",
       "15        Italy           110                 0           0%   \n",
       "16       Latvia           110                 0           0%   \n",
       "17    Lithuania           110                 0           0%   \n",
       "18   Luxembourg           110                 0           0%   \n",
       "19        Malta           110                 0           0%   \n",
       "20  Netherlands           110                 0           0%   \n",
       "21       Norway           110                20          18%   \n",
       "22       Poland           110                 0           0%   \n",
       "23     Portugal           110                 0           0%   \n",
       "24      Romania           110                 0           0%   \n",
       "25     Slovakia           110                 0           0%   \n",
       "26     Slovenia           110                 0           0%   \n",
       "27        Spain           110                 0           0%   \n",
       "28       Sweden           110                 0           0%   \n",
       "29  Switzerland           110                32          29%   \n",
       "\n",
       "   Threshold 30% over  \n",
       "0                  No  \n",
       "1                  No  \n",
       "2                  No  \n",
       "3                  No  \n",
       "4                  No  \n",
       "5                  No  \n",
       "6                  No  \n",
       "7                  No  \n",
       "8                  No  \n",
       "9                  No  \n",
       "10                 No  \n",
       "11                 No  \n",
       "12                 No  \n",
       "13                 No  \n",
       "14                 No  \n",
       "15                 No  \n",
       "16                 No  \n",
       "17                 No  \n",
       "18                 No  \n",
       "19                 No  \n",
       "20                 No  \n",
       "21                 No  \n",
       "22                 No  \n",
       "23                 No  \n",
       "24                 No  \n",
       "25                 No  \n",
       "26                 No  \n",
       "27                 No  \n",
       "28                 No  \n",
       "29                 No  "
      ]
     },
     "metadata": {},
     "output_type": "display_data"
    }
   ],
   "source": [
    "df_data, df_columns, df_countries = macro_udf.threshold_over_dcc(df_test)"
   ]
  },
  {
   "cell_type": "code",
   "execution_count": null,
   "id": "ae8f3c03",
   "metadata": {},
   "outputs": [],
   "source": []
  }
 ],
 "metadata": {
  "kernelspec": {
   "display_name": "Python 3 (ipykernel)",
   "language": "python",
   "name": "python3"
  },
  "language_info": {
   "codemirror_mode": {
    "name": "ipython",
    "version": 3
   },
   "file_extension": ".py",
   "mimetype": "text/x-python",
   "name": "python",
   "nbconvert_exporter": "python",
   "pygments_lexer": "ipython3",
   "version": "3.11.4"
  }
 },
 "nbformat": 4,
 "nbformat_minor": 5
}
